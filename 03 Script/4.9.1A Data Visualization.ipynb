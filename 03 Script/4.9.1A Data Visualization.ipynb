{
 "cells": [
  {
   "cell_type": "markdown",
   "id": "fc34618f",
   "metadata": {},
   "source": [
    "# Importing libraries"
   ]
  },
  {
   "cell_type": "code",
   "execution_count": 1,
   "id": "d273aa10",
   "metadata": {},
   "outputs": [],
   "source": [
    "import pandas as pd\n",
    "import numpy as np\n",
    "import os"
   ]
  },
  {
   "cell_type": "markdown",
   "id": "e5676638",
   "metadata": {},
   "source": [
    "# Importing path"
   ]
  },
  {
   "cell_type": "code",
   "execution_count": 2,
   "id": "6c373119",
   "metadata": {},
   "outputs": [],
   "source": [
    "path = r'/Users/heatherstewart/Dropbox/Mac/Desktop/Instacart Basket analysis 3'"
   ]
  },
  {
   "cell_type": "code",
   "execution_count": 3,
   "id": "7fac4bb3",
   "metadata": {},
   "outputs": [
    {
     "data": {
      "text/plain": [
       "'/Users/heatherstewart/Dropbox/Mac/Desktop/Instacart Basket analysis 3'"
      ]
     },
     "execution_count": 3,
     "metadata": {},
     "output_type": "execute_result"
    }
   ],
   "source": [
    "path"
   ]
  },
  {
   "cell_type": "markdown",
   "id": "9a66ab5f",
   "metadata": {},
   "source": [
    "# Importing customer dataframe"
   ]
  },
  {
   "cell_type": "code",
   "execution_count": 6,
   "id": "babe13ab",
   "metadata": {},
   "outputs": [],
   "source": [
    "df_cust = pd.read_pickle(os.path.join(path,'02 Data', 'Prepared Data','df_combo_all.pkl'))"
   ]
  },
  {
   "cell_type": "code",
   "execution_count": 7,
   "id": "d674bb2c",
   "metadata": {},
   "outputs": [
    {
     "data": {
      "text/html": [
       "<div>\n",
       "<style scoped>\n",
       "    .dataframe tbody tr th:only-of-type {\n",
       "        vertical-align: middle;\n",
       "    }\n",
       "\n",
       "    .dataframe tbody tr th {\n",
       "        vertical-align: top;\n",
       "    }\n",
       "\n",
       "    .dataframe thead th {\n",
       "        text-align: right;\n",
       "    }\n",
       "</style>\n",
       "<table border=\"1\" class=\"dataframe\">\n",
       "  <thead>\n",
       "    <tr style=\"text-align: right;\">\n",
       "      <th></th>\n",
       "      <th>customer_id</th>\n",
       "      <th>first_name</th>\n",
       "      <th>sirname</th>\n",
       "      <th>gender</th>\n",
       "      <th>state</th>\n",
       "      <th>customer_age</th>\n",
       "      <th>date_joined</th>\n",
       "      <th>n_dependants</th>\n",
       "      <th>fam_status</th>\n",
       "      <th>income</th>\n",
       "      <th>...</th>\n",
       "      <th>prices</th>\n",
       "      <th>_merge</th>\n",
       "      <th>price_range_loc</th>\n",
       "      <th>Busiest days</th>\n",
       "      <th>max_order</th>\n",
       "      <th>loyalty_flag</th>\n",
       "      <th>average_price</th>\n",
       "      <th>spending_flag</th>\n",
       "      <th>regularity</th>\n",
       "      <th>order_frequency_flag</th>\n",
       "    </tr>\n",
       "  </thead>\n",
       "  <tbody>\n",
       "    <tr>\n",
       "      <th>0</th>\n",
       "      <td>26711</td>\n",
       "      <td>Deborah</td>\n",
       "      <td>Esquivel</td>\n",
       "      <td>Female</td>\n",
       "      <td>Missouri</td>\n",
       "      <td>48</td>\n",
       "      <td>1/1/2017</td>\n",
       "      <td>3</td>\n",
       "      <td>married</td>\n",
       "      <td>165665</td>\n",
       "      <td>...</td>\n",
       "      <td>9.0</td>\n",
       "      <td>both</td>\n",
       "      <td>Mid_range product</td>\n",
       "      <td>Busiest days</td>\n",
       "      <td>8</td>\n",
       "      <td>New customer</td>\n",
       "      <td>102727.771831</td>\n",
       "      <td>High spender</td>\n",
       "      <td>20.0</td>\n",
       "      <td>Regular customer</td>\n",
       "    </tr>\n",
       "    <tr>\n",
       "      <th>1</th>\n",
       "      <td>26711</td>\n",
       "      <td>Deborah</td>\n",
       "      <td>Esquivel</td>\n",
       "      <td>Female</td>\n",
       "      <td>Missouri</td>\n",
       "      <td>48</td>\n",
       "      <td>1/1/2017</td>\n",
       "      <td>3</td>\n",
       "      <td>married</td>\n",
       "      <td>165665</td>\n",
       "      <td>...</td>\n",
       "      <td>9.0</td>\n",
       "      <td>both</td>\n",
       "      <td>Mid_range product</td>\n",
       "      <td>Regularly busy</td>\n",
       "      <td>8</td>\n",
       "      <td>New customer</td>\n",
       "      <td>102727.771831</td>\n",
       "      <td>High spender</td>\n",
       "      <td>20.0</td>\n",
       "      <td>Regular customer</td>\n",
       "    </tr>\n",
       "    <tr>\n",
       "      <th>2</th>\n",
       "      <td>26711</td>\n",
       "      <td>Deborah</td>\n",
       "      <td>Esquivel</td>\n",
       "      <td>Female</td>\n",
       "      <td>Missouri</td>\n",
       "      <td>48</td>\n",
       "      <td>1/1/2017</td>\n",
       "      <td>3</td>\n",
       "      <td>married</td>\n",
       "      <td>165665</td>\n",
       "      <td>...</td>\n",
       "      <td>9.0</td>\n",
       "      <td>both</td>\n",
       "      <td>Mid_range product</td>\n",
       "      <td>Busiest days</td>\n",
       "      <td>8</td>\n",
       "      <td>New customer</td>\n",
       "      <td>102727.771831</td>\n",
       "      <td>High spender</td>\n",
       "      <td>20.0</td>\n",
       "      <td>Regular customer</td>\n",
       "    </tr>\n",
       "    <tr>\n",
       "      <th>3</th>\n",
       "      <td>26711</td>\n",
       "      <td>Deborah</td>\n",
       "      <td>Esquivel</td>\n",
       "      <td>Female</td>\n",
       "      <td>Missouri</td>\n",
       "      <td>48</td>\n",
       "      <td>1/1/2017</td>\n",
       "      <td>3</td>\n",
       "      <td>married</td>\n",
       "      <td>165665</td>\n",
       "      <td>...</td>\n",
       "      <td>12.6</td>\n",
       "      <td>both</td>\n",
       "      <td>Mid_range product</td>\n",
       "      <td>Regularly busy</td>\n",
       "      <td>8</td>\n",
       "      <td>New customer</td>\n",
       "      <td>103056.699960</td>\n",
       "      <td>High spender</td>\n",
       "      <td>20.0</td>\n",
       "      <td>Regular customer</td>\n",
       "    </tr>\n",
       "    <tr>\n",
       "      <th>4</th>\n",
       "      <td>26711</td>\n",
       "      <td>Deborah</td>\n",
       "      <td>Esquivel</td>\n",
       "      <td>Female</td>\n",
       "      <td>Missouri</td>\n",
       "      <td>48</td>\n",
       "      <td>1/1/2017</td>\n",
       "      <td>3</td>\n",
       "      <td>married</td>\n",
       "      <td>165665</td>\n",
       "      <td>...</td>\n",
       "      <td>12.6</td>\n",
       "      <td>both</td>\n",
       "      <td>Mid_range product</td>\n",
       "      <td>Regularly busy</td>\n",
       "      <td>8</td>\n",
       "      <td>New customer</td>\n",
       "      <td>103056.699960</td>\n",
       "      <td>High spender</td>\n",
       "      <td>20.0</td>\n",
       "      <td>Regular customer</td>\n",
       "    </tr>\n",
       "  </tbody>\n",
       "</table>\n",
       "<p>5 rows × 31 columns</p>\n",
       "</div>"
      ],
      "text/plain": [
       "   customer_id first_name   sirname  gender     state  customer_age  \\\n",
       "0        26711    Deborah  Esquivel  Female  Missouri            48   \n",
       "1        26711    Deborah  Esquivel  Female  Missouri            48   \n",
       "2        26711    Deborah  Esquivel  Female  Missouri            48   \n",
       "3        26711    Deborah  Esquivel  Female  Missouri            48   \n",
       "4        26711    Deborah  Esquivel  Female  Missouri            48   \n",
       "\n",
       "  date_joined  n_dependants fam_status  income  ...  prices  _merge  \\\n",
       "0    1/1/2017             3    married  165665  ...     9.0    both   \n",
       "1    1/1/2017             3    married  165665  ...     9.0    both   \n",
       "2    1/1/2017             3    married  165665  ...     9.0    both   \n",
       "3    1/1/2017             3    married  165665  ...    12.6    both   \n",
       "4    1/1/2017             3    married  165665  ...    12.6    both   \n",
       "\n",
       "     price_range_loc    Busiest days  max_order  loyalty_flag  average_price  \\\n",
       "0  Mid_range product    Busiest days          8  New customer  102727.771831   \n",
       "1  Mid_range product  Regularly busy          8  New customer  102727.771831   \n",
       "2  Mid_range product    Busiest days          8  New customer  102727.771831   \n",
       "3  Mid_range product  Regularly busy          8  New customer  103056.699960   \n",
       "4  Mid_range product  Regularly busy          8  New customer  103056.699960   \n",
       "\n",
       "   spending_flag regularity  order_frequency_flag  \n",
       "0   High spender       20.0      Regular customer  \n",
       "1   High spender       20.0      Regular customer  \n",
       "2   High spender       20.0      Regular customer  \n",
       "3   High spender       20.0      Regular customer  \n",
       "4   High spender       20.0      Regular customer  \n",
       "\n",
       "[5 rows x 31 columns]"
      ]
     },
     "execution_count": 7,
     "metadata": {},
     "output_type": "execute_result"
    }
   ],
   "source": [
    "df_cust.head()"
   ]
  },
  {
   "cell_type": "code",
   "execution_count": 8,
   "id": "ba4f7582",
   "metadata": {},
   "outputs": [
    {
     "data": {
      "text/plain": [
       "(32406041, 31)"
      ]
     },
     "execution_count": 8,
     "metadata": {},
     "output_type": "execute_result"
    }
   ],
   "source": [
    "# Printing shape of df_cust dataframe\n",
    "\n",
    "df_cust.shape"
   ]
  },
  {
   "cell_type": "code",
   "execution_count": 9,
   "id": "f19d06dd",
   "metadata": {},
   "outputs": [
    {
     "name": "stdout",
     "output_type": "stream",
     "text": [
      "<class 'pandas.core.frame.DataFrame'>\n",
      "Index: 32406041 entries, 0 to 32406040\n",
      "Data columns (total 31 columns):\n",
      " #   Column                  Dtype   \n",
      "---  ------                  -----   \n",
      " 0   customer_id             int64   \n",
      " 1   first_name              object  \n",
      " 2   sirname                 object  \n",
      " 3   gender                  object  \n",
      " 4   state                   object  \n",
      " 5   customer_age            int64   \n",
      " 6   date_joined             object  \n",
      " 7   n_dependants            int64   \n",
      " 8   fam_status              object  \n",
      " 9   income                  int64   \n",
      " 10  order_id                int64   \n",
      " 11  order_number            int64   \n",
      " 12  orders_day_of_week      int64   \n",
      " 13  order_hour_of_day       object  \n",
      " 14  days_since_prior_order  float64 \n",
      " 15  product_id              int64   \n",
      " 16  add_to_cart_order       int64   \n",
      " 17  reordered               int64   \n",
      " 18  product_name            object  \n",
      " 19  aisle_id                int64   \n",
      " 20  department_id           int64   \n",
      " 21  prices                  float64 \n",
      " 22  _merge                  category\n",
      " 23  price_range_loc         object  \n",
      " 24  Busiest days            object  \n",
      " 25  max_order               int64   \n",
      " 26  loyalty_flag            object  \n",
      " 27  average_price           float64 \n",
      " 28  spending_flag           object  \n",
      " 29  regularity              float64 \n",
      " 30  order_frequency_flag    object  \n",
      "dtypes: category(1), float64(4), int64(13), object(13)\n",
      "memory usage: 7.5+ GB\n"
     ]
    }
   ],
   "source": [
    "# Printing statistic for df_cust dataframe\n",
    "\n",
    "df_cust.info()"
   ]
  },
  {
   "cell_type": "code",
   "execution_count": 17,
   "id": "22d4232e",
   "metadata": {},
   "outputs": [],
   "source": [
    "df_cust['customer_id'] = df_cust['customer_id'].astype('int32')\n",
    "df_cust['customer_age'] = df_cust['customer_age'].astype('int8')\n",
    "df_cust['n_dependants'] = df_cust['n_dependants'].astype('int8')\n",
    "df_cust['income'] = df_cust['income'].astype('int32')\n",
    "df_cust['order_id'] = df_cust['order_id'].astype('int32')\n",
    "df_cust['order_number'] = df_cust['order_number'].astype('int32')\n",
    "df_cust['orders_day_of_week'] = df_cust['orders_day_of_week'].astype('int8') \n",
    "df_cust['reordered'] = df_cust['reordered'].astype('int32') \n",
    "df_cust['aisle_id'] = df_cust['aisle_id'].astype('int32') \n",
    "df_cust['department_id'] = df_cust['department_id'].astype('int32') \n",
    "df_cust['max_order'] = df_cust['max_order'].astype('int32') \n",
    "df_cust['add_to_cart_order'] = df_cust['add_to_cart_order'].astype('int32') \n"
   ]
  },
  {
   "cell_type": "code",
   "execution_count": 18,
   "id": "f5ece2c0",
   "metadata": {},
   "outputs": [
    {
     "name": "stdout",
     "output_type": "stream",
     "text": [
      "<class 'pandas.core.frame.DataFrame'>\n",
      "Index: 32406041 entries, 0 to 32406040\n",
      "Data columns (total 31 columns):\n",
      " #   Column                  Dtype   \n",
      "---  ------                  -----   \n",
      " 0   customer_id             int32   \n",
      " 1   first_name              object  \n",
      " 2   sirname                 object  \n",
      " 3   gender                  object  \n",
      " 4   state                   object  \n",
      " 5   customer_age            int8    \n",
      " 6   date_joined             object  \n",
      " 7   n_dependants            int8    \n",
      " 8   fam_status              object  \n",
      " 9   income                  int32   \n",
      " 10  order_id                int32   \n",
      " 11  order_number            int32   \n",
      " 12  orders_day_of_week      int8    \n",
      " 13  order_hour_of_day       object  \n",
      " 14  days_since_prior_order  float64 \n",
      " 15  product_id              int64   \n",
      " 16  add_to_cart_order       int32   \n",
      " 17  reordered               int32   \n",
      " 18  product_name            object  \n",
      " 19  aisle_id                int32   \n",
      " 20  department_id           int32   \n",
      " 21  prices                  float64 \n",
      " 22  _merge                  category\n",
      " 23  price_range_loc         object  \n",
      " 24  Busiest days            object  \n",
      " 25  max_order               int32   \n",
      " 26  loyalty_flag            object  \n",
      " 27  average_price           float64 \n",
      " 28  spending_flag           object  \n",
      " 29  regularity              float64 \n",
      " 30  order_frequency_flag    object  \n",
      "dtypes: category(1), float64(4), int32(9), int64(1), int8(3), object(13)\n",
      "memory usage: 5.8+ GB\n"
     ]
    }
   ],
   "source": [
    "df_cust.info()"
   ]
  },
  {
   "cell_type": "code",
   "execution_count": 19,
   "id": "65183862",
   "metadata": {},
   "outputs": [],
   "source": [
    "# Split the dataframe \n",
    "\n",
    "np.random.seed(42)\n",
    "dev = np.random.rand(len(df_cust))<= 0.7"
   ]
  },
  {
   "cell_type": "code",
   "execution_count": 20,
   "id": "1c660b0b",
   "metadata": {},
   "outputs": [],
   "source": [
    "# Create 30% dataframe\n",
    "\n",
    "\n",
    "small = df_cust[~dev]"
   ]
  },
  {
   "cell_type": "markdown",
   "id": "b2ad842b",
   "metadata": {},
   "source": [
    "# Exporting the df_combo_all dataframe"
   ]
  },
  {
   "cell_type": "code",
   "execution_count": 21,
   "id": "b68abdaf",
   "metadata": {},
   "outputs": [],
   "source": [
    "# Exporting dataframe as pickle \n",
    "\n",
    "small.to_pickle(os.path.join(path, '02 Data', 'Prepared Data','df_combo_small.pkl'))"
   ]
  },
  {
   "cell_type": "code",
   "execution_count": null,
   "id": "7d7cf42e",
   "metadata": {},
   "outputs": [],
   "source": []
  }
 ],
 "metadata": {
  "kernelspec": {
   "display_name": "Python 3 (ipykernel)",
   "language": "python",
   "name": "python3"
  },
  "language_info": {
   "codemirror_mode": {
    "name": "ipython",
    "version": 3
   },
   "file_extension": ".py",
   "mimetype": "text/x-python",
   "name": "python",
   "nbconvert_exporter": "python",
   "pygments_lexer": "ipython3",
   "version": "3.11.5"
  }
 },
 "nbformat": 4,
 "nbformat_minor": 5
}
