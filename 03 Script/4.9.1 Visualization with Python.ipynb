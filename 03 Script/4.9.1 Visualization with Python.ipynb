{
 "cells": [
  {
   "cell_type": "markdown",
   "id": "fc34618f",
   "metadata": {},
   "source": [
    "# Importing libraries"
   ]
  },
  {
   "cell_type": "code",
   "execution_count": 1,
   "id": "d273aa10",
   "metadata": {},
   "outputs": [],
   "source": [
    "import pandas as pd\n",
    "import numpy as np\n",
    "import os"
   ]
  },
  {
   "cell_type": "markdown",
   "id": "e5676638",
   "metadata": {},
   "source": [
    "# Importing path"
   ]
  },
  {
   "cell_type": "code",
   "execution_count": 2,
   "id": "6c373119",
   "metadata": {},
   "outputs": [],
   "source": [
    "path = r'/Users/heatherstewart/Dropbox/Mac/Desktop/Instacart Basket analysis 3'"
   ]
  },
  {
   "cell_type": "code",
   "execution_count": 3,
   "id": "7fac4bb3",
   "metadata": {},
   "outputs": [
    {
     "data": {
      "text/plain": [
       "'/Users/heatherstewart/Dropbox/Mac/Desktop/Instacart Basket analysis 3'"
      ]
     },
     "execution_count": 3,
     "metadata": {},
     "output_type": "execute_result"
    }
   ],
   "source": [
    "path"
   ]
  },
  {
   "cell_type": "markdown",
   "id": "9a66ab5f",
   "metadata": {},
   "source": [
    "# Importing customer dataframe"
   ]
  },
  {
   "cell_type": "code",
   "execution_count": 4,
   "id": "babe13ab",
   "metadata": {},
   "outputs": [],
   "source": [
    "df_cust = pd.read_csv(os.path.join(path,'02 Data','Original Data','customers.csv'),index_col = False)"
   ]
  },
  {
   "cell_type": "code",
   "execution_count": 5,
   "id": "d674bb2c",
   "metadata": {},
   "outputs": [
    {
     "data": {
      "text/html": [
       "<div>\n",
       "<style scoped>\n",
       "    .dataframe tbody tr th:only-of-type {\n",
       "        vertical-align: middle;\n",
       "    }\n",
       "\n",
       "    .dataframe tbody tr th {\n",
       "        vertical-align: top;\n",
       "    }\n",
       "\n",
       "    .dataframe thead th {\n",
       "        text-align: right;\n",
       "    }\n",
       "</style>\n",
       "<table border=\"1\" class=\"dataframe\">\n",
       "  <thead>\n",
       "    <tr style=\"text-align: right;\">\n",
       "      <th></th>\n",
       "      <th>user_id</th>\n",
       "      <th>First Name</th>\n",
       "      <th>Surnam</th>\n",
       "      <th>Gender</th>\n",
       "      <th>STATE</th>\n",
       "      <th>Age</th>\n",
       "      <th>date_joined</th>\n",
       "      <th>n_dependants</th>\n",
       "      <th>fam_status</th>\n",
       "      <th>income</th>\n",
       "    </tr>\n",
       "  </thead>\n",
       "  <tbody>\n",
       "    <tr>\n",
       "      <th>0</th>\n",
       "      <td>26711</td>\n",
       "      <td>Deborah</td>\n",
       "      <td>Esquivel</td>\n",
       "      <td>Female</td>\n",
       "      <td>Missouri</td>\n",
       "      <td>48</td>\n",
       "      <td>1/1/2017</td>\n",
       "      <td>3</td>\n",
       "      <td>married</td>\n",
       "      <td>165665</td>\n",
       "    </tr>\n",
       "    <tr>\n",
       "      <th>1</th>\n",
       "      <td>33890</td>\n",
       "      <td>Patricia</td>\n",
       "      <td>Hart</td>\n",
       "      <td>Female</td>\n",
       "      <td>New Mexico</td>\n",
       "      <td>36</td>\n",
       "      <td>1/1/2017</td>\n",
       "      <td>0</td>\n",
       "      <td>single</td>\n",
       "      <td>59285</td>\n",
       "    </tr>\n",
       "    <tr>\n",
       "      <th>2</th>\n",
       "      <td>65803</td>\n",
       "      <td>Kenneth</td>\n",
       "      <td>Farley</td>\n",
       "      <td>Male</td>\n",
       "      <td>Idaho</td>\n",
       "      <td>35</td>\n",
       "      <td>1/1/2017</td>\n",
       "      <td>2</td>\n",
       "      <td>married</td>\n",
       "      <td>99568</td>\n",
       "    </tr>\n",
       "    <tr>\n",
       "      <th>3</th>\n",
       "      <td>125935</td>\n",
       "      <td>Michelle</td>\n",
       "      <td>Hicks</td>\n",
       "      <td>Female</td>\n",
       "      <td>Iowa</td>\n",
       "      <td>40</td>\n",
       "      <td>1/1/2017</td>\n",
       "      <td>0</td>\n",
       "      <td>single</td>\n",
       "      <td>42049</td>\n",
       "    </tr>\n",
       "    <tr>\n",
       "      <th>4</th>\n",
       "      <td>130797</td>\n",
       "      <td>Ann</td>\n",
       "      <td>Gilmore</td>\n",
       "      <td>Female</td>\n",
       "      <td>Maryland</td>\n",
       "      <td>26</td>\n",
       "      <td>1/1/2017</td>\n",
       "      <td>1</td>\n",
       "      <td>married</td>\n",
       "      <td>40374</td>\n",
       "    </tr>\n",
       "  </tbody>\n",
       "</table>\n",
       "</div>"
      ],
      "text/plain": [
       "   user_id First Name    Surnam  Gender       STATE  Age date_joined  \\\n",
       "0    26711    Deborah  Esquivel  Female    Missouri   48    1/1/2017   \n",
       "1    33890   Patricia      Hart  Female  New Mexico   36    1/1/2017   \n",
       "2    65803    Kenneth    Farley    Male       Idaho   35    1/1/2017   \n",
       "3   125935   Michelle     Hicks  Female        Iowa   40    1/1/2017   \n",
       "4   130797        Ann   Gilmore  Female    Maryland   26    1/1/2017   \n",
       "\n",
       "   n_dependants fam_status  income  \n",
       "0             3    married  165665  \n",
       "1             0     single   59285  \n",
       "2             2    married   99568  \n",
       "3             0     single   42049  \n",
       "4             1    married   40374  "
      ]
     },
     "execution_count": 5,
     "metadata": {},
     "output_type": "execute_result"
    }
   ],
   "source": [
    "df_cust.head()"
   ]
  },
  {
   "cell_type": "code",
   "execution_count": 6,
   "id": "ba4f7582",
   "metadata": {},
   "outputs": [
    {
     "data": {
      "text/plain": [
       "(206209, 10)"
      ]
     },
     "execution_count": 6,
     "metadata": {},
     "output_type": "execute_result"
    }
   ],
   "source": [
    "# Printing shape of df_cust dataframe\n",
    "\n",
    "df_cust.shape"
   ]
  },
  {
   "cell_type": "code",
   "execution_count": 7,
   "id": "f19d06dd",
   "metadata": {},
   "outputs": [
    {
     "data": {
      "text/html": [
       "<div>\n",
       "<style scoped>\n",
       "    .dataframe tbody tr th:only-of-type {\n",
       "        vertical-align: middle;\n",
       "    }\n",
       "\n",
       "    .dataframe tbody tr th {\n",
       "        vertical-align: top;\n",
       "    }\n",
       "\n",
       "    .dataframe thead th {\n",
       "        text-align: right;\n",
       "    }\n",
       "</style>\n",
       "<table border=\"1\" class=\"dataframe\">\n",
       "  <thead>\n",
       "    <tr style=\"text-align: right;\">\n",
       "      <th></th>\n",
       "      <th>user_id</th>\n",
       "      <th>Age</th>\n",
       "      <th>n_dependants</th>\n",
       "      <th>income</th>\n",
       "    </tr>\n",
       "  </thead>\n",
       "  <tbody>\n",
       "    <tr>\n",
       "      <th>count</th>\n",
       "      <td>206209.000000</td>\n",
       "      <td>206209.000000</td>\n",
       "      <td>206209.000000</td>\n",
       "      <td>206209.000000</td>\n",
       "    </tr>\n",
       "    <tr>\n",
       "      <th>mean</th>\n",
       "      <td>103105.000000</td>\n",
       "      <td>49.501646</td>\n",
       "      <td>1.499823</td>\n",
       "      <td>94632.852548</td>\n",
       "    </tr>\n",
       "    <tr>\n",
       "      <th>std</th>\n",
       "      <td>59527.555167</td>\n",
       "      <td>18.480962</td>\n",
       "      <td>1.118433</td>\n",
       "      <td>42473.786988</td>\n",
       "    </tr>\n",
       "    <tr>\n",
       "      <th>min</th>\n",
       "      <td>1.000000</td>\n",
       "      <td>18.000000</td>\n",
       "      <td>0.000000</td>\n",
       "      <td>25903.000000</td>\n",
       "    </tr>\n",
       "    <tr>\n",
       "      <th>25%</th>\n",
       "      <td>51553.000000</td>\n",
       "      <td>33.000000</td>\n",
       "      <td>0.000000</td>\n",
       "      <td>59874.000000</td>\n",
       "    </tr>\n",
       "    <tr>\n",
       "      <th>50%</th>\n",
       "      <td>103105.000000</td>\n",
       "      <td>49.000000</td>\n",
       "      <td>1.000000</td>\n",
       "      <td>93547.000000</td>\n",
       "    </tr>\n",
       "    <tr>\n",
       "      <th>75%</th>\n",
       "      <td>154657.000000</td>\n",
       "      <td>66.000000</td>\n",
       "      <td>3.000000</td>\n",
       "      <td>124244.000000</td>\n",
       "    </tr>\n",
       "    <tr>\n",
       "      <th>max</th>\n",
       "      <td>206209.000000</td>\n",
       "      <td>81.000000</td>\n",
       "      <td>3.000000</td>\n",
       "      <td>593901.000000</td>\n",
       "    </tr>\n",
       "  </tbody>\n",
       "</table>\n",
       "</div>"
      ],
      "text/plain": [
       "             user_id            Age   n_dependants         income\n",
       "count  206209.000000  206209.000000  206209.000000  206209.000000\n",
       "mean   103105.000000      49.501646       1.499823   94632.852548\n",
       "std     59527.555167      18.480962       1.118433   42473.786988\n",
       "min         1.000000      18.000000       0.000000   25903.000000\n",
       "25%     51553.000000      33.000000       0.000000   59874.000000\n",
       "50%    103105.000000      49.000000       1.000000   93547.000000\n",
       "75%    154657.000000      66.000000       3.000000  124244.000000\n",
       "max    206209.000000      81.000000       3.000000  593901.000000"
      ]
     },
     "execution_count": 7,
     "metadata": {},
     "output_type": "execute_result"
    }
   ],
   "source": [
    "# Printing statistic for df_cust dataframe\n",
    "\n",
    "df_cust.describe()"
   ]
  },
  {
   "cell_type": "code",
   "execution_count": 8,
   "id": "de66957a",
   "metadata": {},
   "outputs": [
    {
     "data": {
      "text/plain": [
       "user_id             0\n",
       "First Name      11259\n",
       "Surnam              0\n",
       "Gender              0\n",
       "STATE               0\n",
       "Age                 0\n",
       "date_joined         0\n",
       "n_dependants        0\n",
       "fam_status          0\n",
       "income              0\n",
       "dtype: int64"
      ]
     },
     "execution_count": 8,
     "metadata": {},
     "output_type": "execute_result"
    }
   ],
   "source": [
    "# Addressing missing values\n",
    "\n",
    "df_cust.isnull().sum()"
   ]
  },
  {
   "cell_type": "code",
   "execution_count": 9,
   "id": "988a2b77",
   "metadata": {},
   "outputs": [],
   "source": [
    "# Creating a subset and Using isnull() function to address missing values- creating a subset to drop missing values (NaN) of \"First Name\"\n",
    "\n",
    "cust_2 = df_cust[df_cust['First Name'].isnull() == False]"
   ]
  },
  {
   "cell_type": "code",
   "execution_count": 10,
   "id": "ab314eea",
   "metadata": {},
   "outputs": [
    {
     "data": {
      "text/plain": [
       "user_id         0\n",
       "First Name      0\n",
       "Surnam          0\n",
       "Gender          0\n",
       "STATE           0\n",
       "Age             0\n",
       "date_joined     0\n",
       "n_dependants    0\n",
       "fam_status      0\n",
       "income          0\n",
       "dtype: int64"
      ]
     },
     "execution_count": 10,
     "metadata": {},
     "output_type": "execute_result"
    }
   ],
   "source": [
    "cust_2.isnull().sum()"
   ]
  },
  {
   "cell_type": "code",
   "execution_count": 11,
   "id": "26a69192",
   "metadata": {},
   "outputs": [],
   "source": [
    "# Checking for duplicate values\n",
    "\n",
    "df_dups = df_cust[df_cust.duplicated()]"
   ]
  },
  {
   "cell_type": "code",
   "execution_count": 12,
   "id": "e06c91e4",
   "metadata": {},
   "outputs": [
    {
     "data": {
      "text/html": [
       "<div>\n",
       "<style scoped>\n",
       "    .dataframe tbody tr th:only-of-type {\n",
       "        vertical-align: middle;\n",
       "    }\n",
       "\n",
       "    .dataframe tbody tr th {\n",
       "        vertical-align: top;\n",
       "    }\n",
       "\n",
       "    .dataframe thead th {\n",
       "        text-align: right;\n",
       "    }\n",
       "</style>\n",
       "<table border=\"1\" class=\"dataframe\">\n",
       "  <thead>\n",
       "    <tr style=\"text-align: right;\">\n",
       "      <th></th>\n",
       "      <th>user_id</th>\n",
       "      <th>First Name</th>\n",
       "      <th>Surnam</th>\n",
       "      <th>Gender</th>\n",
       "      <th>STATE</th>\n",
       "      <th>Age</th>\n",
       "      <th>date_joined</th>\n",
       "      <th>n_dependants</th>\n",
       "      <th>fam_status</th>\n",
       "      <th>income</th>\n",
       "    </tr>\n",
       "  </thead>\n",
       "  <tbody>\n",
       "  </tbody>\n",
       "</table>\n",
       "</div>"
      ],
      "text/plain": [
       "Empty DataFrame\n",
       "Columns: [user_id, First Name, Surnam, Gender, STATE, Age, date_joined, n_dependants, fam_status, income]\n",
       "Index: []"
      ]
     },
     "execution_count": 12,
     "metadata": {},
     "output_type": "execute_result"
    }
   ],
   "source": [
    "df_dups"
   ]
  },
  {
   "cell_type": "markdown",
   "id": "b134649b",
   "metadata": {},
   "source": [
    "##There are no duplicates located within the dataframe"
   ]
  },
  {
   "cell_type": "code",
   "execution_count": 13,
   "id": "58f63f92",
   "metadata": {},
   "outputs": [
    {
     "name": "stdout",
     "output_type": "stream",
     "text": [
      "First Name\n"
     ]
    }
   ],
   "source": [
    "# looping to address mix type variables\n",
    "\n",
    "for col in df_cust.columns.tolist():\n",
    "  weird = (df_cust[[col]].applymap(type) != df_cust[[col]].iloc[0].apply(type)).any(axis = 1)\n",
    "  if len (df_cust[weird]) > 0:\n",
    "    print (col)"
   ]
  },
  {
   "cell_type": "code",
   "execution_count": 14,
   "id": "90079ce5",
   "metadata": {},
   "outputs": [
    {
     "name": "stdout",
     "output_type": "stream",
     "text": [
      "user_id\n",
      "First Name\n",
      "Surnam\n",
      "Gender\n",
      "STATE\n",
      "Age\n",
      "date_joined\n",
      "n_dependants\n",
      "fam_status\n",
      "income\n"
     ]
    }
   ],
   "source": [
    "for col in df_cust.columns.tolist():\n",
    "    print (col)"
   ]
  },
  {
   "cell_type": "code",
   "execution_count": 14,
   "id": "5a762341",
   "metadata": {},
   "outputs": [],
   "source": [
    "df_cust['First Name'] = df_cust['First Name'].astype('str')"
   ]
  },
  {
   "cell_type": "code",
   "execution_count": 15,
   "id": "4ee2abbd",
   "metadata": {},
   "outputs": [],
   "source": [
    "# Renaming columns \n",
    "\n",
    "df_cust.rename(columns = {'user_id':'customer_id','First Name': 'first_name', 'STATE': 'state','Surnam': 'sirname','Gender':'gender','Age':'customer_age'}, inplace =True)"
   ]
  },
  {
   "cell_type": "code",
   "execution_count": 16,
   "id": "5c710ff5",
   "metadata": {},
   "outputs": [
    {
     "data": {
      "text/html": [
       "<div>\n",
       "<style scoped>\n",
       "    .dataframe tbody tr th:only-of-type {\n",
       "        vertical-align: middle;\n",
       "    }\n",
       "\n",
       "    .dataframe tbody tr th {\n",
       "        vertical-align: top;\n",
       "    }\n",
       "\n",
       "    .dataframe thead th {\n",
       "        text-align: right;\n",
       "    }\n",
       "</style>\n",
       "<table border=\"1\" class=\"dataframe\">\n",
       "  <thead>\n",
       "    <tr style=\"text-align: right;\">\n",
       "      <th></th>\n",
       "      <th>customer_id</th>\n",
       "      <th>first_name</th>\n",
       "      <th>sirname</th>\n",
       "      <th>gender</th>\n",
       "      <th>state</th>\n",
       "      <th>customer_age</th>\n",
       "      <th>date_joined</th>\n",
       "      <th>n_dependants</th>\n",
       "      <th>fam_status</th>\n",
       "      <th>income</th>\n",
       "    </tr>\n",
       "  </thead>\n",
       "  <tbody>\n",
       "    <tr>\n",
       "      <th>0</th>\n",
       "      <td>26711</td>\n",
       "      <td>Deborah</td>\n",
       "      <td>Esquivel</td>\n",
       "      <td>Female</td>\n",
       "      <td>Missouri</td>\n",
       "      <td>48</td>\n",
       "      <td>1/1/2017</td>\n",
       "      <td>3</td>\n",
       "      <td>married</td>\n",
       "      <td>165665</td>\n",
       "    </tr>\n",
       "    <tr>\n",
       "      <th>1</th>\n",
       "      <td>33890</td>\n",
       "      <td>Patricia</td>\n",
       "      <td>Hart</td>\n",
       "      <td>Female</td>\n",
       "      <td>New Mexico</td>\n",
       "      <td>36</td>\n",
       "      <td>1/1/2017</td>\n",
       "      <td>0</td>\n",
       "      <td>single</td>\n",
       "      <td>59285</td>\n",
       "    </tr>\n",
       "    <tr>\n",
       "      <th>2</th>\n",
       "      <td>65803</td>\n",
       "      <td>Kenneth</td>\n",
       "      <td>Farley</td>\n",
       "      <td>Male</td>\n",
       "      <td>Idaho</td>\n",
       "      <td>35</td>\n",
       "      <td>1/1/2017</td>\n",
       "      <td>2</td>\n",
       "      <td>married</td>\n",
       "      <td>99568</td>\n",
       "    </tr>\n",
       "    <tr>\n",
       "      <th>3</th>\n",
       "      <td>125935</td>\n",
       "      <td>Michelle</td>\n",
       "      <td>Hicks</td>\n",
       "      <td>Female</td>\n",
       "      <td>Iowa</td>\n",
       "      <td>40</td>\n",
       "      <td>1/1/2017</td>\n",
       "      <td>0</td>\n",
       "      <td>single</td>\n",
       "      <td>42049</td>\n",
       "    </tr>\n",
       "    <tr>\n",
       "      <th>4</th>\n",
       "      <td>130797</td>\n",
       "      <td>Ann</td>\n",
       "      <td>Gilmore</td>\n",
       "      <td>Female</td>\n",
       "      <td>Maryland</td>\n",
       "      <td>26</td>\n",
       "      <td>1/1/2017</td>\n",
       "      <td>1</td>\n",
       "      <td>married</td>\n",
       "      <td>40374</td>\n",
       "    </tr>\n",
       "  </tbody>\n",
       "</table>\n",
       "</div>"
      ],
      "text/plain": [
       "   customer_id first_name   sirname  gender       state  customer_age  \\\n",
       "0        26711    Deborah  Esquivel  Female    Missouri            48   \n",
       "1        33890   Patricia      Hart  Female  New Mexico            36   \n",
       "2        65803    Kenneth    Farley    Male       Idaho            35   \n",
       "3       125935   Michelle     Hicks  Female        Iowa            40   \n",
       "4       130797        Ann   Gilmore  Female    Maryland            26   \n",
       "\n",
       "  date_joined  n_dependants fam_status  income  \n",
       "0    1/1/2017             3    married  165665  \n",
       "1    1/1/2017             0     single   59285  \n",
       "2    1/1/2017             2    married   99568  \n",
       "3    1/1/2017             0     single   42049  \n",
       "4    1/1/2017             1    married   40374  "
      ]
     },
     "execution_count": 16,
     "metadata": {},
     "output_type": "execute_result"
    }
   ],
   "source": [
    "df_cust.head()"
   ]
  },
  {
   "cell_type": "markdown",
   "id": "63ed413d",
   "metadata": {},
   "source": [
    "# Importing ords_prods dataframe "
   ]
  },
  {
   "cell_type": "code",
   "execution_count": 16,
   "id": "49e6fd20",
   "metadata": {},
   "outputs": [],
   "source": [
    "ords_prods = pd.read_pickle(os.path.join(path,'02 Data','Prepared Data','ords_prods_groupby_pkl'))"
   ]
  },
  {
   "cell_type": "code",
   "execution_count": 17,
   "id": "84179e37",
   "metadata": {},
   "outputs": [],
   "source": [
    "#Splitting the dataframe by using randomonization.\n",
    "\n",
    "np.random.seed(42)\n",
    "dev = np.random.rand(len(ords_prods))<=0.7"
   ]
  },
  {
   "cell_type": "code",
   "execution_count": 18,
   "id": "3c8dbed8",
   "metadata": {},
   "outputs": [],
   "source": [
    "# Creating a small subset (30%)of the dataframe \n",
    "\n",
    "small = ords_prods[~dev]"
   ]
  },
  {
   "cell_type": "code",
   "execution_count": 19,
   "id": "1cd4724b",
   "metadata": {},
   "outputs": [
    {
     "data": {
      "text/html": [
       "<div>\n",
       "<style scoped>\n",
       "    .dataframe tbody tr th:only-of-type {\n",
       "        vertical-align: middle;\n",
       "    }\n",
       "\n",
       "    .dataframe tbody tr th {\n",
       "        vertical-align: top;\n",
       "    }\n",
       "\n",
       "    .dataframe thead th {\n",
       "        text-align: right;\n",
       "    }\n",
       "</style>\n",
       "<table border=\"1\" class=\"dataframe\">\n",
       "  <thead>\n",
       "    <tr style=\"text-align: right;\">\n",
       "      <th></th>\n",
       "      <th>order_id</th>\n",
       "      <th>customer_id</th>\n",
       "      <th>order_number</th>\n",
       "      <th>orders_day_of_week</th>\n",
       "      <th>order_hour_of_day</th>\n",
       "      <th>days_since_prior_order</th>\n",
       "      <th>product_id</th>\n",
       "      <th>add_to_cart_order</th>\n",
       "      <th>reordered</th>\n",
       "      <th>product_name</th>\n",
       "      <th>...</th>\n",
       "      <th>prices</th>\n",
       "      <th>_merge</th>\n",
       "      <th>price_range_loc</th>\n",
       "      <th>Busiest days</th>\n",
       "      <th>max_order</th>\n",
       "      <th>loyalty_flag</th>\n",
       "      <th>average_price</th>\n",
       "      <th>spending_flag</th>\n",
       "      <th>regularity</th>\n",
       "      <th>order_frequency_flag</th>\n",
       "    </tr>\n",
       "  </thead>\n",
       "  <tbody>\n",
       "    <tr>\n",
       "      <th>1</th>\n",
       "      <td>2398795</td>\n",
       "      <td>1</td>\n",
       "      <td>2</td>\n",
       "      <td>3</td>\n",
       "      <td>Average orders</td>\n",
       "      <td>15.0</td>\n",
       "      <td>196</td>\n",
       "      <td>1</td>\n",
       "      <td>1</td>\n",
       "      <td>Soda</td>\n",
       "      <td>...</td>\n",
       "      <td>9.0</td>\n",
       "      <td>both</td>\n",
       "      <td>Mid_range product</td>\n",
       "      <td>Regularly busy</td>\n",
       "      <td>10</td>\n",
       "      <td>New customer</td>\n",
       "      <td>6.367797</td>\n",
       "      <td>Low spender</td>\n",
       "      <td>21.0</td>\n",
       "      <td>Non-frequent customer</td>\n",
       "    </tr>\n",
       "    <tr>\n",
       "      <th>2</th>\n",
       "      <td>473747</td>\n",
       "      <td>1</td>\n",
       "      <td>3</td>\n",
       "      <td>3</td>\n",
       "      <td>Average orders</td>\n",
       "      <td>21.0</td>\n",
       "      <td>196</td>\n",
       "      <td>1</td>\n",
       "      <td>1</td>\n",
       "      <td>Soda</td>\n",
       "      <td>...</td>\n",
       "      <td>9.0</td>\n",
       "      <td>both</td>\n",
       "      <td>Mid_range product</td>\n",
       "      <td>Regularly busy</td>\n",
       "      <td>10</td>\n",
       "      <td>New customer</td>\n",
       "      <td>6.367797</td>\n",
       "      <td>Low spender</td>\n",
       "      <td>21.0</td>\n",
       "      <td>Non-frequent customer</td>\n",
       "    </tr>\n",
       "    <tr>\n",
       "      <th>7</th>\n",
       "      <td>3108588</td>\n",
       "      <td>1</td>\n",
       "      <td>8</td>\n",
       "      <td>1</td>\n",
       "      <td>Average orders</td>\n",
       "      <td>14.0</td>\n",
       "      <td>196</td>\n",
       "      <td>2</td>\n",
       "      <td>1</td>\n",
       "      <td>Soda</td>\n",
       "      <td>...</td>\n",
       "      <td>9.0</td>\n",
       "      <td>both</td>\n",
       "      <td>Mid_range product</td>\n",
       "      <td>Busiest days</td>\n",
       "      <td>10</td>\n",
       "      <td>New customer</td>\n",
       "      <td>6.367797</td>\n",
       "      <td>Low spender</td>\n",
       "      <td>21.0</td>\n",
       "      <td>Non-frequent customer</td>\n",
       "    </tr>\n",
       "    <tr>\n",
       "      <th>9</th>\n",
       "      <td>2550362</td>\n",
       "      <td>1</td>\n",
       "      <td>10</td>\n",
       "      <td>4</td>\n",
       "      <td>Average orders</td>\n",
       "      <td>30.0</td>\n",
       "      <td>196</td>\n",
       "      <td>1</td>\n",
       "      <td>1</td>\n",
       "      <td>Soda</td>\n",
       "      <td>...</td>\n",
       "      <td>9.0</td>\n",
       "      <td>both</td>\n",
       "      <td>Mid_range product</td>\n",
       "      <td>Regularly busy</td>\n",
       "      <td>10</td>\n",
       "      <td>New customer</td>\n",
       "      <td>6.367797</td>\n",
       "      <td>Low spender</td>\n",
       "      <td>21.0</td>\n",
       "      <td>Non-frequent customer</td>\n",
       "    </tr>\n",
       "    <tr>\n",
       "      <th>11</th>\n",
       "      <td>1870022</td>\n",
       "      <td>15</td>\n",
       "      <td>17</td>\n",
       "      <td>2</td>\n",
       "      <td>Average orders</td>\n",
       "      <td>8.0</td>\n",
       "      <td>196</td>\n",
       "      <td>6</td>\n",
       "      <td>1</td>\n",
       "      <td>Soda</td>\n",
       "      <td>...</td>\n",
       "      <td>9.0</td>\n",
       "      <td>both</td>\n",
       "      <td>Mid_range product</td>\n",
       "      <td>Regularly busy</td>\n",
       "      <td>22</td>\n",
       "      <td>Regular customer</td>\n",
       "      <td>3.980556</td>\n",
       "      <td>Low spender</td>\n",
       "      <td>12.0</td>\n",
       "      <td>Regular customer</td>\n",
       "    </tr>\n",
       "  </tbody>\n",
       "</table>\n",
       "<p>5 rows × 22 columns</p>\n",
       "</div>"
      ],
      "text/plain": [
       "    order_id  customer_id  order_number  orders_day_of_week order_hour_of_day  \\\n",
       "1    2398795            1             2                   3    Average orders   \n",
       "2     473747            1             3                   3    Average orders   \n",
       "7    3108588            1             8                   1    Average orders   \n",
       "9    2550362            1            10                   4    Average orders   \n",
       "11   1870022           15            17                   2    Average orders   \n",
       "\n",
       "    days_since_prior_order  product_id  add_to_cart_order  reordered  \\\n",
       "1                     15.0         196                  1          1   \n",
       "2                     21.0         196                  1          1   \n",
       "7                     14.0         196                  2          1   \n",
       "9                     30.0         196                  1          1   \n",
       "11                     8.0         196                  6          1   \n",
       "\n",
       "   product_name  ...  prices  _merge    price_range_loc    Busiest days  \\\n",
       "1          Soda  ...     9.0    both  Mid_range product  Regularly busy   \n",
       "2          Soda  ...     9.0    both  Mid_range product  Regularly busy   \n",
       "7          Soda  ...     9.0    both  Mid_range product    Busiest days   \n",
       "9          Soda  ...     9.0    both  Mid_range product  Regularly busy   \n",
       "11         Soda  ...     9.0    both  Mid_range product  Regularly busy   \n",
       "\n",
       "   max_order      loyalty_flag  average_price spending_flag  regularity  \\\n",
       "1         10      New customer       6.367797   Low spender        21.0   \n",
       "2         10      New customer       6.367797   Low spender        21.0   \n",
       "7         10      New customer       6.367797   Low spender        21.0   \n",
       "9         10      New customer       6.367797   Low spender        21.0   \n",
       "11        22  Regular customer       3.980556   Low spender        12.0   \n",
       "\n",
       "     order_frequency_flag  \n",
       "1   Non-frequent customer  \n",
       "2   Non-frequent customer  \n",
       "7   Non-frequent customer  \n",
       "9   Non-frequent customer  \n",
       "11       Regular customer  \n",
       "\n",
       "[5 rows x 22 columns]"
      ]
     },
     "execution_count": 19,
     "metadata": {},
     "output_type": "execute_result"
    }
   ],
   "source": [
    "small.head()"
   ]
  },
  {
   "cell_type": "code",
   "execution_count": null,
   "id": "d4fd1b95",
   "metadata": {},
   "outputs": [],
   "source": [
    "ords_prods['order_hour_of_day'].mean()"
   ]
  },
  {
   "cell_type": "code",
   "execution_count": null,
   "id": "def7d8f3",
   "metadata": {},
   "outputs": [],
   "source": [
    "ords_prods['order_hour_of_day'].median()"
   ]
  },
  {
   "cell_type": "code",
   "execution_count": null,
   "id": "2e8a7d54",
   "metadata": {},
   "outputs": [],
   "source": [
    "ords_prods['order_hour_of_day'].max()"
   ]
  },
  {
   "cell_type": "code",
   "execution_count": null,
   "id": "d358ca41",
   "metadata": {},
   "outputs": [],
   "source": [
    "# Checking for missing data in ords_prods dataframe\n",
    "\n",
    "ords_prods.isnull().sum()"
   ]
  },
  {
   "cell_type": "code",
   "execution_count": null,
   "id": "6be8d72a",
   "metadata": {},
   "outputs": [],
   "source": [
    "# Checking statistic of ords_prods dataframe\n",
    "\n",
    "ords_prods.describe()"
   ]
  },
  {
   "cell_type": "markdown",
   "id": "5d05029a",
   "metadata": {},
   "source": [
    "# Merging both dataframe "
   ]
  },
  {
   "cell_type": "code",
   "execution_count": 20,
   "id": "6ef140a0",
   "metadata": {},
   "outputs": [],
   "source": [
    "df_combo_all = df_cust.merge(small, on = ['customer_id'])"
   ]
  },
  {
   "cell_type": "code",
   "execution_count": 21,
   "id": "65183862",
   "metadata": {},
   "outputs": [
    {
     "data": {
      "text/html": [
       "<div>\n",
       "<style scoped>\n",
       "    .dataframe tbody tr th:only-of-type {\n",
       "        vertical-align: middle;\n",
       "    }\n",
       "\n",
       "    .dataframe tbody tr th {\n",
       "        vertical-align: top;\n",
       "    }\n",
       "\n",
       "    .dataframe thead th {\n",
       "        text-align: right;\n",
       "    }\n",
       "</style>\n",
       "<table border=\"1\" class=\"dataframe\">\n",
       "  <thead>\n",
       "    <tr style=\"text-align: right;\">\n",
       "      <th></th>\n",
       "      <th>customer_id</th>\n",
       "      <th>first_name</th>\n",
       "      <th>sirname</th>\n",
       "      <th>gender</th>\n",
       "      <th>state</th>\n",
       "      <th>customer_age</th>\n",
       "      <th>date_joined</th>\n",
       "      <th>n_dependants</th>\n",
       "      <th>fam_status</th>\n",
       "      <th>income</th>\n",
       "      <th>...</th>\n",
       "      <th>prices</th>\n",
       "      <th>_merge</th>\n",
       "      <th>price_range_loc</th>\n",
       "      <th>Busiest days</th>\n",
       "      <th>max_order</th>\n",
       "      <th>loyalty_flag</th>\n",
       "      <th>average_price</th>\n",
       "      <th>spending_flag</th>\n",
       "      <th>regularity</th>\n",
       "      <th>order_frequency_flag</th>\n",
       "    </tr>\n",
       "  </thead>\n",
       "  <tbody>\n",
       "    <tr>\n",
       "      <th>0</th>\n",
       "      <td>26711</td>\n",
       "      <td>Deborah</td>\n",
       "      <td>Esquivel</td>\n",
       "      <td>Female</td>\n",
       "      <td>Missouri</td>\n",
       "      <td>48</td>\n",
       "      <td>1/1/2017</td>\n",
       "      <td>3</td>\n",
       "      <td>married</td>\n",
       "      <td>165665</td>\n",
       "      <td>...</td>\n",
       "      <td>9.0</td>\n",
       "      <td>both</td>\n",
       "      <td>Mid_range product</td>\n",
       "      <td>Regularly busy</td>\n",
       "      <td>8</td>\n",
       "      <td>New customer</td>\n",
       "      <td>7.988889</td>\n",
       "      <td>Low spender</td>\n",
       "      <td>20.0</td>\n",
       "      <td>Regular customer</td>\n",
       "    </tr>\n",
       "    <tr>\n",
       "      <th>1</th>\n",
       "      <td>26711</td>\n",
       "      <td>Deborah</td>\n",
       "      <td>Esquivel</td>\n",
       "      <td>Female</td>\n",
       "      <td>Missouri</td>\n",
       "      <td>48</td>\n",
       "      <td>1/1/2017</td>\n",
       "      <td>3</td>\n",
       "      <td>married</td>\n",
       "      <td>165665</td>\n",
       "      <td>...</td>\n",
       "      <td>12.6</td>\n",
       "      <td>both</td>\n",
       "      <td>Mid_range product</td>\n",
       "      <td>Regularly busy</td>\n",
       "      <td>8</td>\n",
       "      <td>New customer</td>\n",
       "      <td>7.988889</td>\n",
       "      <td>Low spender</td>\n",
       "      <td>20.0</td>\n",
       "      <td>Regular customer</td>\n",
       "    </tr>\n",
       "    <tr>\n",
       "      <th>2</th>\n",
       "      <td>26711</td>\n",
       "      <td>Deborah</td>\n",
       "      <td>Esquivel</td>\n",
       "      <td>Female</td>\n",
       "      <td>Missouri</td>\n",
       "      <td>48</td>\n",
       "      <td>1/1/2017</td>\n",
       "      <td>3</td>\n",
       "      <td>married</td>\n",
       "      <td>165665</td>\n",
       "      <td>...</td>\n",
       "      <td>12.6</td>\n",
       "      <td>both</td>\n",
       "      <td>Mid_range product</td>\n",
       "      <td>Busiest days</td>\n",
       "      <td>8</td>\n",
       "      <td>New customer</td>\n",
       "      <td>7.988889</td>\n",
       "      <td>Low spender</td>\n",
       "      <td>20.0</td>\n",
       "      <td>Regular customer</td>\n",
       "    </tr>\n",
       "    <tr>\n",
       "      <th>3</th>\n",
       "      <td>26711</td>\n",
       "      <td>Deborah</td>\n",
       "      <td>Esquivel</td>\n",
       "      <td>Female</td>\n",
       "      <td>Missouri</td>\n",
       "      <td>48</td>\n",
       "      <td>1/1/2017</td>\n",
       "      <td>3</td>\n",
       "      <td>married</td>\n",
       "      <td>165665</td>\n",
       "      <td>...</td>\n",
       "      <td>4.3</td>\n",
       "      <td>both</td>\n",
       "      <td>Low_range product</td>\n",
       "      <td>Busiest days</td>\n",
       "      <td>8</td>\n",
       "      <td>New customer</td>\n",
       "      <td>7.988889</td>\n",
       "      <td>Low spender</td>\n",
       "      <td>20.0</td>\n",
       "      <td>Regular customer</td>\n",
       "    </tr>\n",
       "    <tr>\n",
       "      <th>4</th>\n",
       "      <td>33890</td>\n",
       "      <td>Patricia</td>\n",
       "      <td>Hart</td>\n",
       "      <td>Female</td>\n",
       "      <td>New Mexico</td>\n",
       "      <td>36</td>\n",
       "      <td>1/1/2017</td>\n",
       "      <td>0</td>\n",
       "      <td>single</td>\n",
       "      <td>59285</td>\n",
       "      <td>...</td>\n",
       "      <td>9.0</td>\n",
       "      <td>both</td>\n",
       "      <td>Mid_range product</td>\n",
       "      <td>Busiest days</td>\n",
       "      <td>12</td>\n",
       "      <td>Regular customer</td>\n",
       "      <td>7.057534</td>\n",
       "      <td>Low spender</td>\n",
       "      <td>26.0</td>\n",
       "      <td>Non-frequent customer</td>\n",
       "    </tr>\n",
       "  </tbody>\n",
       "</table>\n",
       "<p>5 rows × 31 columns</p>\n",
       "</div>"
      ],
      "text/plain": [
       "   customer_id first_name   sirname  gender       state  customer_age  \\\n",
       "0        26711    Deborah  Esquivel  Female    Missouri            48   \n",
       "1        26711    Deborah  Esquivel  Female    Missouri            48   \n",
       "2        26711    Deborah  Esquivel  Female    Missouri            48   \n",
       "3        26711    Deborah  Esquivel  Female    Missouri            48   \n",
       "4        33890   Patricia      Hart  Female  New Mexico            36   \n",
       "\n",
       "  date_joined  n_dependants fam_status  income  ...  prices  _merge  \\\n",
       "0    1/1/2017             3    married  165665  ...     9.0    both   \n",
       "1    1/1/2017             3    married  165665  ...    12.6    both   \n",
       "2    1/1/2017             3    married  165665  ...    12.6    both   \n",
       "3    1/1/2017             3    married  165665  ...     4.3    both   \n",
       "4    1/1/2017             0     single   59285  ...     9.0    both   \n",
       "\n",
       "     price_range_loc    Busiest days  max_order      loyalty_flag  \\\n",
       "0  Mid_range product  Regularly busy          8      New customer   \n",
       "1  Mid_range product  Regularly busy          8      New customer   \n",
       "2  Mid_range product    Busiest days          8      New customer   \n",
       "3  Low_range product    Busiest days          8      New customer   \n",
       "4  Mid_range product    Busiest days         12  Regular customer   \n",
       "\n",
       "   average_price  spending_flag regularity   order_frequency_flag  \n",
       "0       7.988889    Low spender       20.0       Regular customer  \n",
       "1       7.988889    Low spender       20.0       Regular customer  \n",
       "2       7.988889    Low spender       20.0       Regular customer  \n",
       "3       7.988889    Low spender       20.0       Regular customer  \n",
       "4       7.057534    Low spender       26.0  Non-frequent customer  \n",
       "\n",
       "[5 rows x 31 columns]"
      ]
     },
     "execution_count": 21,
     "metadata": {},
     "output_type": "execute_result"
    }
   ],
   "source": [
    "df_combo_all.head()"
   ]
  },
  {
   "cell_type": "code",
   "execution_count": 22,
   "id": "1c660b0b",
   "metadata": {},
   "outputs": [
    {
     "data": {
      "text/plain": [
       "(9726566, 31)"
      ]
     },
     "execution_count": 22,
     "metadata": {},
     "output_type": "execute_result"
    }
   ],
   "source": [
    "# Viewing shape of df_combo_all dataframe\n",
    "\n",
    "df_combo_all.shape"
   ]
  },
  {
   "cell_type": "markdown",
   "id": "b2ad842b",
   "metadata": {},
   "source": [
    "# Exporting the df_combo_all dataframe"
   ]
  },
  {
   "cell_type": "code",
   "execution_count": 23,
   "id": "b68abdaf",
   "metadata": {},
   "outputs": [],
   "source": [
    "# Exporting dataframe as pickle \n",
    "\n",
    "df_combo_all.to_pickle(os.path.join(path, '02 Data', 'Prepared Data','df_combo_all.pkl'))"
   ]
  },
  {
   "cell_type": "code",
   "execution_count": null,
   "id": "7d7cf42e",
   "metadata": {},
   "outputs": [],
   "source": []
  }
 ],
 "metadata": {
  "kernelspec": {
   "display_name": "Python 3 (ipykernel)",
   "language": "python",
   "name": "python3"
  },
  "language_info": {
   "codemirror_mode": {
    "name": "ipython",
    "version": 3
   },
   "file_extension": ".py",
   "mimetype": "text/x-python",
   "name": "python",
   "nbconvert_exporter": "python",
   "pygments_lexer": "ipython3",
   "version": "3.11.5"
  }
 },
 "nbformat": 4,
 "nbformat_minor": 5
}
